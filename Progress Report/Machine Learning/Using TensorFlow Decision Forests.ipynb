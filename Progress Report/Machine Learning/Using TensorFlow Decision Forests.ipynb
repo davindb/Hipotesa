{
 "cells": [
  {
   "cell_type": "markdown",
   "id": "d71b8142",
   "metadata": {},
   "source": [
    "# Symptoms Based Disease Predition and Its Treatments\n",
    "A Bangkit Final Project proposed by B21-CAP0170\n",
    "\n",
    "There are a lot of diseases that you need to detect at an early stage to be able to identify the treatment plan early on and help the patient secure a good way to live. An early detection of disease and a precise diagnosis allows for quicker action, saving precious time, and to prevent complications and rapid worsening. Health practitioners have conducted surveys and collected data on patient information, their disease, and symptoms that allow them to distinguish the patient's disease with common symptoms. Therefore, the dataset can be used to train the model that predicts the disease based on the symptoms."
   ]
  },
  {
   "cell_type": "markdown",
   "id": "e21099b5",
   "metadata": {},
   "source": [
    "## Importing Library"
   ]
  },
  {
   "cell_type": "code",
   "execution_count": null,
   "id": "ed9d02ce",
   "metadata": {},
   "outputs": [],
   "source": [
    "# Importing Libraries\n",
    "import numpy as np\n",
    "import pandas as pd \n",
    "import matplotlib.pyplot as plt\n",
    "import tensorflow_decision_forests as tfdf\n",
    "import tensorflow as tf\n",
    "\n",
    "try:\n",
    "  from wurlitzer import sys_pipes\n",
    "except:\n",
    "  from colabtools.googlelog import CaptureLog as sys_pipes"
   ]
  },
  {
   "cell_type": "code",
   "execution_count": null,
   "id": "86f5c08f",
   "metadata": {
    "scrolled": true
   },
   "outputs": [],
   "source": [
    "# Read the dataset csv file\n",
    "df = pd.read_csv(\"Dataset/dataset.csv\")\n",
    "df_precaution = pd.read_csv(\"Dataset/symptom_precaution.csv\")\n",
    "df_description = pd.read_csv(\"Dataset/symptom_description.csv\")\n",
    "df_precaution = df_precaution.fillna(0)\n",
    "df_description.to_dict(orient='records')"
   ]
  },
  {
   "cell_type": "code",
   "execution_count": null,
   "id": "716aadf3",
   "metadata": {},
   "outputs": [],
   "source": [
    "# Filter DataFrame to disease only (delete all symptom columns)\n",
    "disease_only = df\n",
    "for a in range(1, 18):\n",
    "    disease_only = disease_only.drop([df.columns[a]], axis=1)\n",
    "\n",
    "disease_only.head()"
   ]
  },
  {
   "cell_type": "code",
   "execution_count": null,
   "id": "f9c2ce06",
   "metadata": {},
   "outputs": [],
   "source": [
    "# Put all unique disease to a list\n",
    "disease_list = disease_only['Disease'].unique().tolist()\n",
    "print(f\"Labels of diseases: {disease_list}\")"
   ]
  },
  {
   "cell_type": "code",
   "execution_count": null,
   "id": "7e93487f",
   "metadata": {},
   "outputs": [],
   "source": [
    "# The total number of the diseases in the dataset\n",
    "len(disease_list)"
   ]
  },
  {
   "cell_type": "code",
   "execution_count": null,
   "id": "83947f58",
   "metadata": {},
   "outputs": [],
   "source": [
    "# Filter DataFrame to symptoms only (delete the disease column)\n",
    "first_column = df.columns[0]\n",
    "symptoms_only = df.drop([first_column], axis=1)\n",
    "\n",
    "# Saving to new file\n",
    "# df.to_csv('file.csv', index=False)\n",
    "\n",
    "symptoms_only.head()"
   ]
  },
  {
   "cell_type": "code",
   "execution_count": null,
   "id": "581927b9",
   "metadata": {},
   "outputs": [],
   "source": [
    "# Put all unique symptoms to a list\n",
    "symptoms = []\n",
    "\n",
    "for i in range(1, 18):\n",
    "    for x in symptoms_only[f'Symptom_{i}'].tolist():\n",
    "        if str(x) != 'nan' and str(x) not in symptoms:\n",
    "            symptoms.append(x)\n",
    "\n",
    "\n",
    "print(f\"Featured symptoms: {symptoms}\")"
   ]
  },
  {
   "cell_type": "code",
   "execution_count": null,
   "id": "4113c17f",
   "metadata": {},
   "outputs": [],
   "source": [
    "# The total number of the symptoms in the dataset\n",
    "len(symptoms)"
   ]
  },
  {
   "cell_type": "code",
   "execution_count": null,
   "id": "48081ddb",
   "metadata": {},
   "outputs": [],
   "source": [
    "# Get a list like this --> ['Symptom_1', Symptom_2, ..., Symptom_17 ]\n",
    "cols = [i for i in df.iloc[:,1:].columns]\n",
    "print(cols)"
   ]
  },
  {
   "cell_type": "code",
   "execution_count": null,
   "id": "5020dd56",
   "metadata": {},
   "outputs": [],
   "source": [
    "# Turns all columns in 'cols' to variable column.\n",
    "# The number of rows of tmp DataFrame is 17x from the original DataFrame\n",
    "\n",
    "tmp = pd.melt(df.reset_index() ,id_vars = ['index'], value_vars = cols )\n",
    "\n",
    "# Adding a value to each symptoms column by 1\n",
    "tmp['add_value'] = 1\n",
    "tmp.head()"
   ]
  },
  {
   "cell_type": "code",
   "execution_count": null,
   "id": "bd2409e7",
   "metadata": {},
   "outputs": [],
   "source": [
    "pd.set_option('display.max_columns', 150)\n",
    "\n",
    "# Pivot table\n",
    "diseases = pd.pivot_table(tmp, \n",
    "                          values = 'add_value',\n",
    "                          index = 'index',\n",
    "                          columns = 'value')\n",
    "\n",
    "# Add labels column\n",
    "diseases.insert(0,'label',df['Disease'])\n",
    "\n",
    "# Fill NaN with zero\n",
    "diseases = diseases.fillna(0)\n",
    "# diseases.head()\n",
    "\n",
    "symptoms_list = []\n",
    "for column in diseases:\n",
    "    if column != 'label':\n",
    "        symptoms_list.append(column)\n",
    "\n",
    "diseases.head()"
   ]
  },
  {
   "cell_type": "markdown",
   "id": "ad876924",
   "metadata": {},
   "source": [
    "# TensorFlow Decision Forests Algorithm"
   ]
  },
  {
   "cell_type": "code",
   "execution_count": null,
   "id": "0ceaf8aa",
   "metadata": {},
   "outputs": [],
   "source": [
    "\"\"\"\n",
    "Our dataset classification label is represented as a string.\n",
    "Keras expected classification labels to be integers.\n",
    "\"\"\"\n",
    "\n",
    "# Assign the label column name to a variable\n",
    "label = \"label\"\n",
    "\n",
    "# Converting string to a unique integers for each diseases\n",
    "diseases[label] = diseases[label].map(disease_list.index)\n",
    "diseases.head()"
   ]
  },
  {
   "cell_type": "code",
   "execution_count": null,
   "id": "e052149b",
   "metadata": {},
   "outputs": [],
   "source": [
    "# Split dataset for training 70% and test 30%\n",
    "train_7 = diseases.sample(frac = 0.7, random_state = 1)\n",
    "test_7 = diseases.drop(index = train_7.index)\n",
    "\n",
    "# Split dataset for training 80% and test 20%\n",
    "train_8 = diseases.sample(frac = 0.8, random_state = 1)\n",
    "test_8 = diseases.drop(index = train_8.index)\n",
    "\n",
    "# Split dataset for training 90% and test 10%\n",
    "train_9 = diseases.sample(frac = 0.9, random_state = 1)\n",
    "test_9 = diseases.drop(index = train_9.index)\n",
    "\n",
    "train = train_7\n",
    "test = test_7"
   ]
  },
  {
   "cell_type": "code",
   "execution_count": null,
   "id": "a2d69dd5",
   "metadata": {},
   "outputs": [],
   "source": [
    "# Shape of training data\n",
    "train.shape"
   ]
  },
  {
   "cell_type": "code",
   "execution_count": null,
   "id": "44290c9e",
   "metadata": {},
   "outputs": [],
   "source": [
    "# Shape of test data\n",
    "test.shape"
   ]
  },
  {
   "cell_type": "code",
   "execution_count": null,
   "id": "cf1f9997",
   "metadata": {},
   "outputs": [],
   "source": [
    "# Convert the pandas dataframe to tensorflow datasets\n",
    "train_tfdf = tfdf.keras.pd_dataframe_to_tf_dataset(train, label=label)\n",
    "test_tfdf = tfdf.keras.pd_dataframe_to_tf_dataset(test, label=label)"
   ]
  },
  {
   "cell_type": "code",
   "execution_count": null,
   "id": "b98e236f",
   "metadata": {},
   "outputs": [],
   "source": [
    "# Specify the model\n",
    "model = tfdf.keras.RandomForestModel()\n",
    "\n",
    "# Optionally, add evaluation metrics\n",
    "model.compile(\n",
    "    metrics=[\"accuracy\"]\n",
    ")\n",
    "\n",
    "# Train the model\n",
    "with sys_pipes():\n",
    "    model.fit(x=train_tfdf)"
   ]
  },
  {
   "cell_type": "code",
   "execution_count": null,
   "id": "8e19f595",
   "metadata": {},
   "outputs": [],
   "source": [
    "evaluation = model.evaluate(test_tfdf, return_dict=True)\n",
    "print()\n",
    "\n",
    "for name, value in evaluation.items():\n",
    "  print(f\"{name}: {value:.4f}\")"
   ]
  },
  {
   "cell_type": "code",
   "execution_count": null,
   "id": "c444c10a",
   "metadata": {},
   "outputs": [],
   "source": [
    "model.summary()"
   ]
  },
  {
   "cell_type": "code",
   "execution_count": null,
   "id": "51615ecd",
   "metadata": {},
   "outputs": [],
   "source": [
    "# Save the model to local directory\n",
    "# model.save('saved_model/my_model')"
   ]
  },
  {
   "cell_type": "markdown",
   "id": "378642c2",
   "metadata": {},
   "source": [
    "# TESTING THE MODEL FROM TENSORFLOW DECISION FORESTS"
   ]
  },
  {
   "cell_type": "code",
   "execution_count": 1,
   "id": "40c44614",
   "metadata": {},
   "outputs": [],
   "source": [
    "# Importing Libraries\n",
    "import numpy as np\n",
    "import pandas as pd \n",
    "import tensorflow_decision_forests as tfdf\n",
    "import tensorflow as tf\n",
    "from tensorflow import keras"
   ]
  },
  {
   "cell_type": "code",
   "execution_count": 2,
   "id": "66324956",
   "metadata": {},
   "outputs": [],
   "source": [
    "# Sorted list of Disease\n",
    "disease_list = ['Fungal infection', 'Allergy', 'GERD', 'Chronic cholestasis', 'Drug Reaction', 'Peptic ulcer disease', \n",
    "                'AIDS', 'Diabetes', 'Gastroenteritis', 'Bronchial Asthma', 'Hypertension', 'Migraine', 'Cervical spondylosis', \n",
    "                'Brain hemorrhage', 'Jaundice', 'Malaria', 'Chicken pox', 'Dengue', 'Typhoid', 'hepatitis A', 'Hepatitis B', \n",
    "                'Hepatitis C', 'Hepatitis D', 'Hepatitis E', 'Alcoholic hepatitis', 'Tuberculosis', 'Common Cold', 'Pneumonia', \n",
    "                'Dimorphic hemorrhoids', 'Heart attack', 'Varicose veins', 'Hypothyroidism', 'Hyperthyroidism', 'Hypoglycemia', \n",
    "                'Osteoarthristis', 'Arthritis', 'Benign paroxysmal positional vertigo', 'Acne', 'Urinary tract infection', \n",
    "                'Psoriasis', 'Impetigo']\n",
    "\n",
    "# Sorted list of Symptom\n",
    "symptoms_list = ['abdominal_pain', 'abnormal_menstruation', 'acidity', 'acute_liver_failure', 'altered_sensorium', \n",
    "                 'anxiety','back_pain', 'belly_pain', 'blackheads', 'bladder_discomfort', 'blister', 'blood_in_sputum', \n",
    "                 'bloody_stool','blurred_and_distorted_vision', 'breathlessness', 'brittle_nails', 'bruising', \n",
    "                 'burning_micturition', 'chest_pain', 'chills', 'cold_hands_and_feets', 'coma', 'congestion', \n",
    "                 'constipation', 'continuous_feel_of_urine', 'continuous_sneezing', 'cough', 'cramps', 'dark_urine', \n",
    "                 'dehydration', 'depression', 'diarrhoea', 'dischromic_patches', 'distention_of_abdomen', 'dizziness', \n",
    "                 'drying_and_tingling_lips', 'enlarged_thyroid', 'excessive_hunger', 'extra_marital_contacts', \n",
    "                 'family_history', 'fast_heart_rate', 'fatigue', 'fluid_overload', 'foul_smell_of_urine', 'headache', \n",
    "                 'high_fever', 'hip_joint_pain', 'history_of_alcohol_consumption', 'increased_appetite', 'indigestion', \n",
    "                 'inflammatory_nails', 'internal_itching', 'irregular_sugar_level', 'irritability', 'irritation_in_anus', \n",
    "                 'itching', 'joint_pain', 'knee_pain', 'lack_of_concentration', 'lethargy', 'loss_of_appetite', \n",
    "                 'loss_of_balance', 'loss_of_smell', 'malaise', 'mild_fever', 'mood_swings', 'movement_stiffness', \n",
    "                 'mucoid_sputum', 'muscle_pain', 'muscle_wasting', 'muscle_weakness', 'nausea', 'neck_pain', \n",
    "                 'nodal_skin_eruptions', 'obesity', 'pain_behind_the_eyes', 'pain_during_bowel_movements', \n",
    "                 'pain_in_anal_region', 'painful_walking', 'palpitations', 'passage_of_gases', 'patches_in_throat', 'phlegm', \n",
    "                 'polyuria', 'prominent_veins_on_calf', 'puffy_face_and_eyes', 'pus_filled_pimples', \n",
    "                 'receiving_blood_transfusion', 'receiving_unsterile_injections', 'red_sore_around_nose', \n",
    "                 'red_spots_over_body', 'redness_of_eyes', 'restlessness', 'runny_nose', 'rusty_sputum', 'scurring', \n",
    "                 'shivering', 'silver_like_dusting', 'sinus_pressure', 'skin_peeling', 'skin_rash', 'slurred_speech', \n",
    "                 'small_dents_in_nails', 'spinning_movements', 'spotting_urination', 'stiff_neck', 'stomach_bleeding', \n",
    "                 'stomach_pain', 'sunken_eyes', 'sweating', 'swelled_lymph_nodes', 'swelling_joints', 'swelling_of_stomach', \n",
    "                 'swollen_blood_vessels', 'swollen_extremeties', 'swollen_legs', 'throat_irritation', 'toxic_look', \n",
    "                 'ulcers_on_tongue', 'unsteadiness', 'visual_disturbances', 'vomiting', 'watering_from_eyes', \n",
    "                 'weakness_in_limbs', 'weakness_of_one_body_side', 'weight_gain', 'weight_loss', 'yellow_crust_ooze', \n",
    "                 'yellow_urine', 'yellowing_of_eyes', 'yellowish_skin']"
   ]
  },
  {
   "cell_type": "code",
   "execution_count": 3,
   "id": "6e50db26",
   "metadata": {},
   "outputs": [],
   "source": [
    "# Importing the TensorFlow Decision Forests Model\n",
    "model_path = 'saved_model/my_model'\n",
    "imported = keras.models.load_model(model_path)"
   ]
  },
  {
   "cell_type": "code",
   "execution_count": 4,
   "id": "c593c907",
   "metadata": {},
   "outputs": [],
   "source": [
    "# User inputs will be like this\n",
    "user_inputs = {\n",
    "    \"symptom_1\": \"itching\",\n",
    "    \"symptom_2\": \"nodal_skin_eruptions\",\n",
    "    \"symptom_3\": \"dischromic_patches\",\n",
    "    \"symptom_4\": \"skin_rash\"\n",
    "}\n",
    "\n",
    "# Defining the inputs for the model\n",
    "model_inputs = []\n",
    "for i in symptoms_list:\n",
    "    model_inputs.append(float(0))\n",
    "\n",
    "# Creating the inputs list for the model\n",
    "for i in user_inputs.values():\n",
    "    if i != '0':\n",
    "        symptom_index = symptoms_list.index(i)\n",
    "        model_inputs[symptom_index] = float(1)\n",
    "\n",
    "# Creating the Input DataFrame and convert to tensorflow dataset\n",
    "df_inputs = pd.DataFrame([model_inputs], columns=symptoms_list)\n",
    "model_inputs = tfdf.keras.pd_dataframe_to_tf_dataset(df_inputs, label=None)"
   ]
  },
  {
   "cell_type": "code",
   "execution_count": 5,
   "id": "9d2a9f8f",
   "metadata": {},
   "outputs": [
    {
     "name": "stdout",
     "output_type": "stream",
     "text": [
      "[0.9933325  0.         0.         0.         0.         0.\n",
      " 0.         0.         0.         0.         0.         0.\n",
      " 0.         0.         0.         0.         0.         0.\n",
      " 0.         0.         0.         0.         0.         0.\n",
      " 0.         0.         0.         0.         0.         0.\n",
      " 0.         0.         0.         0.         0.         0.\n",
      " 0.         0.00666667 0.         0.         0.        ]\n"
     ]
    }
   ],
   "source": [
    "# Predict the data\n",
    "prediction = imported.predict(model_inputs)\n",
    "predicted = prediction[0]\n",
    "\n",
    "# Predicted data will be list of the probability  based on Disease List Index\n",
    "print(predicted)"
   ]
  },
  {
   "cell_type": "code",
   "execution_count": 6,
   "id": "3d3bf03d",
   "metadata": {},
   "outputs": [
    {
     "name": "stdout",
     "output_type": "stream",
     "text": [
      "Probability: 99.33325052261353 %\n",
      "Predicted disease: Fungal infection\n",
      "\n"
     ]
    }
   ],
   "source": [
    "# 5. Initialize the highest probability variable\n",
    "highest_probability = max(predicted)\n",
    "\n",
    "# 7. Catch the disease index\n",
    "disease_index = np.where(predicted == highest_probability)\n",
    "disease_index = disease_index[0][0]\n",
    "\n",
    "# 8. Find the disease based on the disease index\n",
    "predicted_disease = disease_list[disease_index]\n",
    "\n",
    "# 9. The probability percentage\n",
    "probability = highest_probability*100\n",
    "\n",
    "print(f'Probability: {probability} %')\n",
    "print(f'Predicted disease: {predicted_disease}\\n')"
   ]
  },
  {
   "cell_type": "code",
   "execution_count": null,
   "id": "516d82d0",
   "metadata": {},
   "outputs": [],
   "source": []
  }
 ],
 "metadata": {
  "kernelspec": {
   "display_name": "Python 3.9 (tensorflow)",
   "language": "python",
   "name": "tensorflow"
  },
  "language_info": {
   "codemirror_mode": {
    "name": "ipython",
    "version": 3
   },
   "file_extension": ".py",
   "mimetype": "text/x-python",
   "name": "python",
   "nbconvert_exporter": "python",
   "pygments_lexer": "ipython3",
   "version": "3.9.5"
  }
 },
 "nbformat": 4,
 "nbformat_minor": 5
}
